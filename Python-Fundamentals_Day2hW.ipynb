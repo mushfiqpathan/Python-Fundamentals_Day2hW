{
 "cells": [
  {
   "cell_type": "code",
   "execution_count": null,
   "id": "ec1c1a9f",
   "metadata": {},
   "outputs": [],
   "source": [
    "Understanding vairbles in python"
   ]
  },
  {
   "cell_type": "code",
   "execution_count": 9,
   "id": "4cbfc384",
   "metadata": {},
   "outputs": [],
   "source": [
    "x=2\n",
    "y=3"
   ]
  },
  {
   "cell_type": "code",
   "execution_count": 10,
   "id": "775da896",
   "metadata": {},
   "outputs": [
    {
     "name": "stdout",
     "output_type": "stream",
     "text": [
      "5\n"
     ]
    }
   ],
   "source": [
    "z=x+y\n",
    "print(z)"
   ]
  },
  {
   "cell_type": "code",
   "execution_count": 3,
   "id": "8b673aa6",
   "metadata": {},
   "outputs": [
    {
     "name": "stdout",
     "output_type": "stream",
     "text": [
      "mushfiq\n"
     ]
    }
   ],
   "source": [
    "firstname = \"mushfiq\"\n",
    "\n",
    "print (firstname)"
   ]
  },
  {
   "cell_type": "code",
   "execution_count": 5,
   "id": "4ff10013",
   "metadata": {},
   "outputs": [
    {
     "name": "stdout",
     "output_type": "stream",
     "text": [
      "mushfiq\n"
     ]
    }
   ],
   "source": [
    "name1 = (\"mushfiq\")\n",
    "\n",
    "print (name1)         "
   ]
  },
  {
   "cell_type": "code",
   "execution_count": null,
   "id": "b15d183d",
   "metadata": {},
   "outputs": [],
   "source": [
    "Rules for declaring the varibles in python"
   ]
  },
  {
   "cell_type": "code",
   "execution_count": null,
   "id": "16d92178",
   "metadata": {},
   "outputs": [],
   "source": [
    "Rule 1: A varible name should not contain any namespaces in it\n",
    "ex1.name spaces wrong way-first name\n",
    "                correct way-firstname\n",
    "                        or\n",
    "        first_name\n",
    "    "
   ]
  },
  {
   "cell_type": "code",
   "execution_count": null,
   "id": "7eab0c28",
   "metadata": {},
   "outputs": [],
   "source": [
    "Rule 2: A varible name should not start with a number\n",
    "ex2.wrong way-1name\n",
    "    correct way-name1\n",
    "    "
   ]
  },
  {
   "cell_type": "code",
   "execution_count": null,
   "id": "c50230e6",
   "metadata": {},
   "outputs": [],
   "source": [
    "Rule 3:A varible name should not contain any special characters\n",
    "ex3. @$!&"
   ]
  },
  {
   "cell_type": "code",
   "execution_count": null,
   "id": "d46d3352",
   "metadata": {},
   "outputs": [],
   "source": [
    "Introduction to datatypes in Python"
   ]
  },
  {
   "cell_type": "code",
   "execution_count": null,
   "id": "c5e183f2",
   "metadata": {},
   "outputs": [],
   "source": [
    "1 string----SF=str\n",
    "2 numbers----Integers and float (decimal) SF=int and float\n",
    "3 list-----SF=list\n",
    "4 tuple------SF=tuple\n",
    "5 dictionary-----SF=dict"
   ]
  },
  {
   "cell_type": "code",
   "execution_count": null,
   "id": "17d85adc",
   "metadata": {},
   "outputs": [],
   "source": [
    "Note:Python is a case sensitive language"
   ]
  },
  {
   "cell_type": "code",
   "execution_count": null,
   "id": "4aaffec5",
   "metadata": {},
   "outputs": [],
   "source": [
    "Classification of data types\n",
    "\n",
    "Two different catrogeries\n",
    "\n",
    "1)mutable datatypes-----which can edit or alter----these are flexible in nature\n",
    "2)imutable datatypes-----which we cannot edit or alter-----these are fixed in nature"
   ]
  },
  {
   "cell_type": "code",
   "execution_count": null,
   "id": "9f03ad20",
   "metadata": {},
   "outputs": [],
   "source": [
    "Introduction to string datatypes :\n",
    "\n",
    "Defination-A string is a series of chracters declared in quotes\n",
    "\n",
    "Classification-It is classified as an imutable data types"
   ]
  },
  {
   "cell_type": "code",
   "execution_count": null,
   "id": "cc41460a",
   "metadata": {},
   "outputs": [],
   "source": [
    "How do you declare a string -----3 possible approaches\n",
    "\n",
    "1)single quotes ''\n",
    "2)double quotes \"\"\n",
    "3)triple quotes \"\"\" \"\"\""
   ]
  },
  {
   "cell_type": "code",
   "execution_count": null,
   "id": "99412a16",
   "metadata": {},
   "outputs": [],
   "source": [
    "# is used for comenting the code .... it wont impact  "
   ]
  },
  {
   "cell_type": "code",
   "execution_count": null,
   "id": "82858e39",
   "metadata": {},
   "outputs": [],
   "source": [
    "Type----It is used to validate the datatypes that we are using\n",
    "type(name)\n",
    "str\n",
    "type(name2)\n",
    "str\n",
    "type(name3)\n",
    "str"
   ]
  }
 ],
 "metadata": {
  "kernelspec": {
   "display_name": "Python 3",
   "language": "python",
   "name": "python3"
  },
  "language_info": {
   "codemirror_mode": {
    "name": "ipython",
    "version": 3
   },
   "file_extension": ".py",
   "mimetype": "text/x-python",
   "name": "python",
   "nbconvert_exporter": "python",
   "pygments_lexer": "ipython3",
   "version": "3.8.8"
  }
 },
 "nbformat": 4,
 "nbformat_minor": 5
}
